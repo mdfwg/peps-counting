{
 "cells": [
  {
   "cell_type": "code",
   "execution_count": 1,
   "metadata": {},
   "outputs": [],
   "source": [
    "from skimage.feature import hog\n",
    "from skimage.feature import local_binary_pattern\n",
    "import cv2 \n",
    "import os\n",
    "import numpy as np\n",
    "import tqdm\n",
    "from sklearn import svm\n",
    "from sklearn.metrics import classification_report,accuracy_score"
   ]
  },
  {
   "cell_type": "code",
   "execution_count": 2,
   "metadata": {},
   "outputs": [],
   "source": [
    "train_pos = r\"split\\train_positif\"\n",
    "train_neg = r\"split\\train_negatif\"\n",
    "test_pos = r\"split\\test_positif\"\n",
    "test_neg = r\"split\\test_negatif\""
   ]
  },
  {
   "cell_type": "code",
   "execution_count": 3,
   "metadata": {},
   "outputs": [],
   "source": [
    "def extract_feature_combined(live_path, spoof_path):\n",
    "    # List to store extracted features of an image\n",
    "    features = []\n",
    "    \n",
    "    # List to store class labels, 1 for live, 0 for spoof\n",
    "    labels = []\n",
    "    \n",
    "    radius = 3\n",
    "    # Number of neighbors to consider for LBP\n",
    "    n_points = 8 * radius\n",
    "    # Sampling type for LBP\n",
    "    METHOD = 'uniform'\n",
    "    \n",
    "    path_array = [live_path, spoof_path]\n",
    "    \n",
    "    for path in path_array:\n",
    "        # Storing all images in a folder in a list 'files'\n",
    "        files = os.listdir(path)\n",
    "        \n",
    "        # Loop through the images in the folder\n",
    "        for img in files:\n",
    "            # Construct the full image path\n",
    "            path_img = os.path.join(path, img)\n",
    "            # Reading the image in grayscale using cv2\n",
    "            img = cv2.imread(path_img, cv2.IMREAD_GRAYSCALE)\n",
    "            \n",
    "            # Resizing the image so all images are of same size\n",
    "            resized_img = cv2.resize(img, (300, 300))\n",
    "            \n",
    "            # Extracting features using LBP\n",
    "            lbp = local_binary_pattern(resized_img, n_points, radius, METHOD)\n",
    "            lbp_features = lbp.flatten()\n",
    "            \n",
    "            # Extracting features using HOG\n",
    "            hog_features, _ = hog(resized_img, orientations=9, pixels_per_cell=(8, 8),\n",
    "                                  cells_per_block=(2, 2), visualize=True)\n",
    "            \n",
    "            # Concatenating LBP and HOG features\n",
    "            combined_features = np.concatenate((lbp_features, hog_features))\n",
    "            \n",
    "            # Label 1 for live images, 0 for spoof images\n",
    "            class_identifier = 1\n",
    "            if 'neg' in path:\n",
    "                class_identifier = 0\n",
    "            \n",
    "            # Appending extracted features to the list\n",
    "            features.append(combined_features)\n",
    "            \n",
    "            # Adding corresponding class label to the list\n",
    "            labels.append(class_identifier)\n",
    "    \n",
    "    return features, labels"
   ]
  },
  {
   "cell_type": "code",
   "execution_count": 5,
   "metadata": {},
   "outputs": [
    {
     "name": "stdout",
     "output_type": "stream",
     "text": [
      "Combined Accuracy: 0.8387096774193549\n",
      "\n",
      "\n",
      "              precision    recall  f1-score   support\n",
      "\n",
      "           0       0.77      0.97      0.86        31\n",
      "           1       0.96      0.71      0.81        31\n",
      "\n",
      "    accuracy                           0.84        62\n",
      "   macro avg       0.86      0.84      0.84        62\n",
      "weighted avg       0.86      0.84      0.84        62\n",
      "\n"
     ]
    }
   ],
   "source": [
    "# Training and testing datasets\n",
    "com_x_trn,com_y_trn = extract_feature_combined(train_pos,train_neg)\n",
    "com_x_tst,com_y_tst = extract_feature_combined(test_pos, test_neg)\n",
    "\n",
    "# Create and fit the model\n",
    "com_clf = svm.SVC()\n",
    "com_clf.fit(com_x_trn,com_y_trn)\n",
    "\n",
    "# Predict on the test features, print the results\n",
    "com_y_pred = com_clf.predict(com_x_tst)\n",
    "print(\"Combined Accuracy: \"+str(accuracy_score(com_y_tst, com_y_pred)))\n",
    "print('\\n')\n",
    "print(classification_report(com_y_tst, com_y_pred))"
   ]
  },
  {
   "cell_type": "code",
   "execution_count": null,
   "metadata": {},
   "outputs": [],
   "source": []
  }
 ],
 "metadata": {
  "kernelspec": {
   "display_name": "base",
   "language": "python",
   "name": "python3"
  },
  "language_info": {
   "codemirror_mode": {
    "name": "ipython",
    "version": 3
   },
   "file_extension": ".py",
   "mimetype": "text/x-python",
   "name": "python",
   "nbconvert_exporter": "python",
   "pygments_lexer": "ipython3",
   "version": "3.11.7"
  }
 },
 "nbformat": 4,
 "nbformat_minor": 2
}
